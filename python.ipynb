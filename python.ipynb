{
 "cells": [
  {
   "cell_type": "code",
   "execution_count": 181,
   "id": "cfad8b3c-bb58-4167-876f-da988c87c4a1",
   "metadata": {},
   "outputs": [],
   "source": [
    "from pathlib import Path \n",
    "import pandas as pd\n",
    "import matplotlib.pyplot as plt"
   ]
  },
  {
   "cell_type": "code",
   "execution_count": 183,
   "id": "472193b1-121a-45f4-a6a6-c9117e6e4aa1",
   "metadata": {},
   "outputs": [],
   "source": [
    "def load_data(file_path):\n",
    "    df = pd.read_excel(file_path)\n",
    "    return df"
   ]
  },
  {
   "cell_type": "code",
   "execution_count": 185,
   "id": "352fe8d0-c5d4-4047-b940-64dc4a76806d",
   "metadata": {},
   "outputs": [],
   "source": [
    "def compute_total_nights(df):\n",
    "    df = df.copy()\n",
    "    df[\"total_nights\"] = df[\"stays_in_week_nights\"] + df[\"stays_in_weekend_nights\"]\n",
    "    return df"
   ]
  },
  {
   "cell_type": "code",
   "execution_count": 187,
   "id": "e8e7b20b-7897-4e30-beb1-f2db5b5a4b7e",
   "metadata": {},
   "outputs": [],
   "source": [
    "def compute_total_price(df):\n",
    "    df = df.copy()\n",
    "    df[\"total_price\"] = (df[\"adr\"] * df[\"total_nights\"]).round(2)\n",
    "    return df"
   ]
  },
  {
   "cell_type": "code",
   "execution_count": 189,
   "id": "563947bd-834a-49f5-affd-865b56b0f327",
   "metadata": {},
   "outputs": [],
   "source": [
    "def add_tertile_bands(df):\n",
    "    df = df.copy()\n",
    "    df[\"price_band_tertiles\"] = pd.qcut(\n",
    "        df[\"total_price\"], q=3, labels=[\"Low\", \"Medium\", \"High\"]\n",
    "    ).astype(\"category\")\n",
    "    return df"
   ]
  },
  {
   "cell_type": "markdown",
   "id": "0d029ee3-2331-497d-8c63-c17e25ef29c1",
   "metadata": {},
   "source": [
    "Low / Medium / High groups with roughly equal counts based on total_price.\n",
    "Balanced sample sizes, which makes model training and between-group comparisons easier and helps avoid “empty bins” caused by extreme values.\n",
    "Business relevance: Balanced cohorts to compare KPIs (e.g., cancel rate, upsell take-rate) across price tiers."
   ]
  },
  {
   "cell_type": "code",
   "execution_count": 192,
   "id": "9d7ae4ad-597b-46c7-8379-de7c93523033",
   "metadata": {},
   "outputs": [],
   "source": [
    "def add_equalwidth_bands(df , bins: int = 3):\n",
    "    df = df.copy()\n",
    "    df[\"price_band_equalwidth\"] = pd.cut(\n",
    "        df[\"total_price\"], bins=bins, labels=[\"Low\", \"Medium\", \"High\"], include_lowest=True\n",
    "    ).astype(\"category\")\n",
    "    return df"
   ]
  },
  {
   "cell_type": "markdown",
   "id": "aedbb58f-e915-4f9a-9de9-6618e0493d3b",
   "metadata": {},
   "source": [
    "Low / Medium / High bands split by equal price ranges between min and max.\n",
    "Stable, easy-to-interpret thresholds (e.g., “0–200, 200–400, 400+”), which is convenient for pricing policies and dashboard presentation.\n",
    "Business relevance: Clear price ladders for marketing and yield dashboards; good for rule-based actions (e.g., stricter deposit for High band)."
   ]
  },
  {
   "cell_type": "code",
   "execution_count": 195,
   "id": "8592c26d-5275-42b6-8035-1f7750a73087",
   "metadata": {},
   "outputs": [],
   "source": [
    "def save_enriched_data(df, output_path):\n",
    "    df.to_csv(output_path, index=False)"
   ]
  },
  {
   "cell_type": "code",
   "execution_count": 216,
   "id": "5e30f33e-0b6d-4ba5-a456-239e99ea186f",
   "metadata": {},
   "outputs": [],
   "source": [
    "def run_summary_and_plot(df):\n",
    "    # Descriptive snapshot\n",
    "    view = df[[\"adr\", \"total_nights\", \"total_price\"]]\n",
    "    print(\"=== Shape ===\")\n",
    "    print(df.shape)\n",
    "\n",
    "    print(\"\\n=== Describe (adr, total_nights, total_price) ===\")\n",
    "    print(view.describe(percentiles=[0.25, 0.5, 0.75]).round(2))\n",
    "    \n",
    "    print(\"Tertile thresholds:\")\n",
    "    print(df[\"total_price\"].quantile([0, 1/3, 2/3, 1]).round(2))\n",
    "    print(\"\\n=== Counts by tertiles ===\")\n",
    "    print(df[\"price_band_tertiles\"].value_counts(sort=False))\n",
    "\n",
    "    print(\"\\n=== Counts by equal-width ===\")\n",
    "    print(df[\"price_band_equalwidth\"].value_counts(sort=False))\n",
    "\n",
    "    # cancellation rate by price band\n",
    "    print(\"\\n=== Cancel rate by tertiles ===\")\n",
    "    print(df.groupby(\"price_band_tertiles\", observed=True)[\"is_canceled\"].mean().round(3))\n",
    "    print(\"\\n=== Cancel rate by equal-width ===\")\n",
    "    print(df.groupby(\"price_band_equalwidth\", observed=True)[\"is_canceled\"].mean().round(3))\n",
    "\n",
    "    p99 = df[\"total_price\"].quantile(0.99)\n",
    "    subset = df.loc[df[\"total_price\"] <= p99, \"total_price\"]\n",
    "\n",
    "    q = df[\"total_price\"].quantile([1/3, 2/3])  # tertile edges\n",
    "\n",
    "    plt.figure()\n",
    "    subset.plot(kind=\"hist\", bins=30)\n",
    "    for x in q:\n",
    "       plt.axvline(x, linestyle=\"--\")  # show tertile cut points\n",
    "    plt.title(\"Total Price Distribution (≤ P99) with Tertile Cutlines\")\n",
    "    plt.ylabel(\"Frequency\")\n",
    "    plt.show()"
   ]
  },
  {
   "cell_type": "code",
   "execution_count": 218,
   "id": "a0119036-4af3-4a83-b064-4a2909de57e7",
   "metadata": {},
   "outputs": [],
   "source": [
    "def main(input_file, output_file, bins):\n",
    "    df = load_data(input_file)\n",
    "    df = compute_total_nights(df)\n",
    "    df = compute_total_price(df)\n",
    "    df = add_tertile_bands(df)\n",
    "    df = add_equalwidth_bands(df, bins=bins)\n",
    "\n",
    "    save_enriched_data(df, output_file)\n",
    "    print(f\"\\nSaved → {Path(output_file).resolve()}\")\n",
    "\n",
    "    return df  "
   ]
  },
  {
   "cell_type": "code",
   "execution_count": 222,
   "id": "5f8cb837-43d9-491a-9b07-1da009f87ccc",
   "metadata": {},
   "outputs": [
    {
     "name": "stdout",
     "output_type": "stream",
     "text": [
      "\n",
      "Saved → /Users/xiafeier/hotel_bookings_enriched.csv\n",
      "=== Shape ===\n",
      "(87396, 36)\n",
      "\n",
      "=== Describe (adr, total_nights, total_price) ===\n",
      "            adr  total_nights  total_price\n",
      "count  87396.00      87396.00     87396.00\n",
      "mean     106.34          3.63       394.31\n",
      "std       55.01          2.76       369.45\n",
      "min        0.00          0.00         0.00\n",
      "25%       72.00          2.00       152.48\n",
      "50%       98.10          3.00       299.00\n",
      "75%      134.00          5.00       503.20\n",
      "max     5400.00         69.00      7590.00\n",
      "Tertile thresholds:\n",
      "0.000000       0.0\n",
      "0.333333     199.0\n",
      "0.666667     416.7\n",
      "1.000000    7590.0\n",
      "Name: total_price, dtype: float64\n",
      "\n",
      "=== Counts by tertiles ===\n",
      "price_band_tertiles\n",
      "Low       29145\n",
      "Medium    29120\n",
      "High      29131\n",
      "Name: count, dtype: int64\n",
      "\n",
      "=== Counts by equal-width ===\n",
      "price_band_equalwidth\n",
      "Low       87211\n",
      "Medium      180\n",
      "High          5\n",
      "Name: count, dtype: int64\n",
      "\n",
      "=== Cancel rate by tertiles ===\n",
      "price_band_tertiles\n",
      "Low       0.192\n",
      "Medium    0.284\n",
      "High      0.348\n",
      "Name: is_canceled, dtype: float64\n",
      "\n",
      "=== Cancel rate by equal-width ===\n",
      "price_band_equalwidth\n",
      "Low       0.274\n",
      "Medium    0.617\n",
      "High      0.600\n",
      "Name: is_canceled, dtype: float64\n"
     ]
    },
    {
     "data": {
      "image/png": "[encoded data removed]",
      "text/plain": [
       "<Figure size 640x480 with 1 Axes>"
      ]
     },
     "metadata": {},
     "output_type": "display_data"
    }
   ],
   "source": [
    "if __name__ == \"__main__\":\n",
    "    input_path = \"/Users/xiafeier/Desktop/PODA/hotel_bookings_cleaned.xlsx\"\n",
    "    output_path = \"hotel_bookings_enriched.csv\"\n",
    "    \n",
    "    final_data = main(input_path, output_path,3)\n",
    "    run_summary_and_plot(final_data)"
   ]
  },
  {
   "cell_type": "markdown",
   "id": "33ef9845-35f1-41b0-a715-513f5326a0fd",
   "metadata": {},
   "source": [
    "The script loads a cleaned Excel file, then builds three features in sequence. First, compute_total_nights adds weekday and weekend nights to get stay length per booking. Next, compute_total_price multiplies ADR by total nights and rounds to two decimals, yielding booking-level room revenue. Then two price bands are created: add_tertile_bands uses equal-frequency tertiles (Low/Medium/High), while add_equalwidth_bands splits the min–max range into three fixed intervals. The dataset is saved, and run_summary_and_plot prints quick checks and draws a histogram of total_price with tertile cutlines, zoomed to P99 so the long tail doesn’t dominate."
   ]
  },
  {
   "cell_type": "markdown",
   "id": "549fc0b5-b9ba-42b9-8f4c-16fe037fe2d2",
   "metadata": {},
   "source": [
    "Shape: 87,396 rows × 36 columns.\n",
    "\n",
    "Descriptive stats: adr mean ≈ 106.34, total_nights mean ≈ 3.63, and total_price mean ≈ 394.31; max total_price hits 7,590, confirming a long right tail.\n",
    "\n",
    "Tertile thresholds: about ≈199.60 and ≈416.70; tertile counts are roughly balanced (~29k each), which is ideal for fair KPI comparisons.\n",
    "\n",
    "Equal-width counts: Low 87,211, Medium 180, High 5; extreme values stretch the upper bound, so most bookings fall into “Low.”\n",
    "\n",
    "Cancel rate by tertiles: Low 0.192, Medium 0.284, High 0.348 (0–1 scale). Cancellation rises with price in these data.\n",
    "\n",
    "Cancel rate by equal-width: Low 0.274, Medium 0.617, High 0.600; but “Medium/High” have tiny samples (180/5), so these rates are unstable."
   ]
  },
  {
   "cell_type": "markdown",
   "id": "9b35046b-0b4b-49b9-8d1e-6b15e1385578",
   "metadata": {},
   "source": [
    "The histogram of total_price (capped at P99) is strongly right-skewed: many lower-value bookings with a long, thin high-value tail. The dashed tertile lines near ~200 and ~417 show where Low/Medium/High split, visually confirming balanced tertile coverage across the main mass of bookings."
   ]
  },
  {
   "cell_type": "code",
   "execution_count": null,
   "id": "7f24a7f8-aebb-41d8-8bd0-1ae272d6b580",
   "metadata": {},
   "outputs": [],
   "source": []
  }
 ],
 "metadata": {
  "kernelspec": {
   "display_name": "Python [conda env:base] *",
   "language": "python",
   "name": "conda-base-py"
  },
  "language_info": {
   "codemirror_mode": {
    "name": "ipython",
    "version": 3
   },
   "file_extension": ".py",
   "mimetype": "text/x-python",
   "name": "python",
   "nbconvert_exporter": "python",
   "pygments_lexer": "ipython3",
   "version": "3.12.7"
  }
 },
 "nbformat": 4,
 "nbformat_minor": 5
}
