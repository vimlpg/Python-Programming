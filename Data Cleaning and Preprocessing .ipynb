{
 "cells": [
  {
   "cell_type": "code",
   "execution_count": 7,
   "id": "71958bcc",
   "metadata": {},
   "outputs": [
    {
     "name": "stdout",
     "output_type": "stream",
     "text": [
      "Shape: 119,390 rows × 32 columns\n",
      "\n",
      "Missing values by column:\n",
      "          missing_count  missing_pct\n",
      "agent             16340        13.69\n",
      "children              4         0.00\n",
      "company          112593        94.31\n",
      "country             488         0.41\n",
      "\n",
      "Total missing cells: 129,425\n",
      "Rows with ≥1 missing value: 119,173\n",
      "\n",
      "Exact duplicate rows (counting all duplicates): 40,165\n",
      "Unique rows after dropping duplicates: 87,396\n",
      "\n",
      "Sample duplicate rows:\n",
      "            hotel  is_canceled  lead_time  arrival_date_year  \\\n",
      "4    Resort Hotel            0         14               2015   \n",
      "5    Resort Hotel            0         14               2015   \n",
      "21   Resort Hotel            0         72               2015   \n",
      "22   Resort Hotel            0         72               2015   \n",
      "39   Resort Hotel            0         70               2015   \n",
      "43   Resort Hotel            0         70               2015   \n",
      "132  Resort Hotel            1          5               2015   \n",
      "138  Resort Hotel            1          5               2015   \n",
      "198  Resort Hotel            0          0               2015   \n",
      "200  Resort Hotel            0          0               2015   \n",
      "\n",
      "    arrival_date_month  arrival_date_week_number  arrival_date_day_of_month  \\\n",
      "4                 July                        27                          1   \n",
      "5                 July                        27                          1   \n",
      "21                July                        27                          1   \n",
      "22                July                        27                          1   \n",
      "39                July                        27                          2   \n",
      "43                July                        27                          2   \n",
      "132               July                        28                          5   \n",
      "138               July                        28                          5   \n",
      "198               July                        28                          7   \n",
      "200               July                        28                          7   \n",
      "\n",
      "     stays_in_weekend_nights  stays_in_week_nights  adults  ...  deposit_type  \\\n",
      "4                          0                     2       2  ...    No Deposit   \n",
      "5                          0                     2       2  ...    No Deposit   \n",
      "21                         2                     4       2  ...    No Deposit   \n",
      "22                         2                     4       2  ...    No Deposit   \n",
      "39                         2                     3       2  ...    No Deposit   \n",
      "43                         2                     3       2  ...    No Deposit   \n",
      "132                        1                     0       2  ...    No Deposit   \n",
      "138                        1                     0       2  ...    No Deposit   \n",
      "198                        0                     1       1  ...    No Deposit   \n",
      "200                        0                     1       1  ...    No Deposit   \n",
      "\n",
      "     agent company days_in_waiting_list customer_type     adr  \\\n",
      "4    240.0     NaN                    0     Transient   98.00   \n",
      "5    240.0     NaN                    0     Transient   98.00   \n",
      "21   250.0     NaN                    0     Transient   84.67   \n",
      "22   250.0     NaN                    0     Transient   84.67   \n",
      "39   250.0     NaN                    0     Transient  137.00   \n",
      "43   250.0     NaN                    0     Transient  137.00   \n",
      "132  240.0     NaN                    0     Transient   97.00   \n",
      "138  240.0     NaN                    0     Transient   97.00   \n",
      "198  240.0     NaN                    0     Transient  109.80   \n",
      "200  240.0     NaN                    0     Transient  109.80   \n",
      "\n",
      "     required_car_parking_spaces  total_of_special_requests  \\\n",
      "4                              0                          1   \n",
      "5                              0                          1   \n",
      "21                             0                          1   \n",
      "22                             0                          1   \n",
      "39                             0                          1   \n",
      "43                             0                          1   \n",
      "132                            0                          0   \n",
      "138                            0                          0   \n",
      "198                            0                          3   \n",
      "200                            0                          3   \n",
      "\n",
      "     reservation_status reservation_status_date  \n",
      "4             Check-Out              2015-07-03  \n",
      "5             Check-Out              2015-07-03  \n",
      "21            Check-Out              2015-07-07  \n",
      "22            Check-Out              2015-07-07  \n",
      "39            Check-Out              2015-07-07  \n",
      "43            Check-Out              2015-07-07  \n",
      "132            Canceled              2015-07-01  \n",
      "138            Canceled              2015-07-01  \n",
      "198           Check-Out              2015-07-08  \n",
      "200           Check-Out              2015-07-08  \n",
      "\n",
      "[10 rows x 32 columns]\n"
     ]
    }
   ],
   "source": [
    "import pandas as pd\n",
    "\n",
    "\n",
    "# 1) Load your dataset\n",
    "path_in  = \"hotel_bookings.csv\"                 # <- change if needed\n",
    "path_out = \"hotel_bookings_cleaned.csv\"\n",
    "df = pd.read_csv(path_in)\n",
    "\n",
    "print(f\"Shape: {df.shape[0]:,} rows × {df.shape[1]} columns\\n\")\n",
    "\n",
    "# 2) Missing values by column (count & %)\n",
    "na_count = df.isna().sum().sort_values(ascending=False)\n",
    "na_pct = (df.isna().mean() * 100).round(2).sort_values(ascending=False)\n",
    "missing_summary = pd.DataFrame({\"missing_count\": na_count, \"missing_pct\": na_pct})\n",
    "print(\"Missing values by column:\")\n",
    "print(missing_summary[missing_summary[\"missing_count\"] > 0])\n",
    "\n",
    "# Quick totals\n",
    "total_missing_cells = int(df.isna().sum().sum())\n",
    "rows_with_any_na = int(df.isna().any(axis=1).sum())\n",
    "print(f\"\\nTotal missing cells: {total_missing_cells:,}\")\n",
    "print(f\"Rows with ≥1 missing value: {rows_with_any_na:,}\\n\")\n",
    "\n",
    "# 3) Exact duplicate rows (across all columns)\n",
    "dup_count = int(df.duplicated(keep=False).sum())\n",
    "unique_rows = df.drop_duplicates().shape[0]\n",
    "print(f\"Exact duplicate rows (counting all duplicates): {dup_count:,}\")\n",
    "print(f\"Unique rows after dropping duplicates: {unique_rows:,}\\n\")\n",
    "\n",
    "# Preview some duplicate rows (if any)\n",
    "if dup_count > 0:\n",
    "    dup_preview = df[df.duplicated(keep=False)]\n",
    "    print(\"Sample duplicate rows:\")\n",
    "    print(dup_preview.head(10))\n"
   ]
  },
  {
   "cell_type": "code",
   "execution_count": 2,
   "id": "46f35385",
   "metadata": {},
   "outputs": [
    {
     "name": "stdout",
     "output_type": "stream",
     "text": [
      "Removed 31994 duplicate rows. New shape: (87396, 32)\n"
     ]
    }
   ],
   "source": [
    "# Drop exact duplicates across all columns\n",
    "before = len(df)\n",
    "df2 = df.drop_duplicates(keep=\"first\").reset_index(drop=True)\n",
    "after = len(df2)\n",
    "\n",
    "print(f\"Removed {before - after} duplicate rows. New shape: {df2.shape}\")"
   ]
  },
  {
   "cell_type": "code",
   "execution_count": 5,
   "id": "d0cc069a",
   "metadata": {},
   "outputs": [
    {
     "name": "stdout",
     "output_type": "stream",
     "text": [
      "Missing values by column:\n",
      "Empty DataFrame\n",
      "Columns: [missing_count, missing_pct]\n",
      "Index: []\n",
      "\n",
      "Total missing cells: 0\n",
      "Rows with ≥1 missing value: 0\n",
      "\n"
     ]
    }
   ],
   "source": [
    "# 2) Missing values by column (count & %)\n",
    "na_count = df2.isna().sum().sort_values(ascending=False)\n",
    "na_pct = (df2.isna().mean() * 100).round(2).sort_values(ascending=False)\n",
    "missing_summary = pd.DataFrame({\"missing_count\": na_count, \"missing_pct\": na_pct})\n",
    "print(\"Missing values by column:\")\n",
    "print(missing_summary[missing_summary[\"missing_count\"] > 0])\n",
    "\n",
    "# Quick totals\n",
    "total_missing_cells = int(df2.isna().sum().sum())\n",
    "rows_with_any_na = int(df2.isna().any(axis=1).sum())\n",
    "print(f\"\\nTotal missing cells: {total_missing_cells:,}\")\n",
    "print(f\"Rows with ≥1 missing value: {rows_with_any_na:,}\\n\")"
   ]
  },
  {
   "cell_type": "code",
   "execution_count": 4,
   "id": "f772e5c6",
   "metadata": {},
   "outputs": [],
   "source": [
    "# 1) Fill 0 for adult/adults, children, company\n",
    "numeric_fill_cols = [\"agent\", \"children\", \"company\"]\n",
    "for col in numeric_fill_cols:\n",
    "    if col in df2.columns:\n",
    "        # coerce to numeric first (company may be string IDs)\n",
    "        df2[col] = pd.to_numeric(df2[col], errors=\"coerce\").fillna(0)\n",
    "        # keep as integer if possible\n",
    "        try:\n",
    "            df2[col] = df2[col].astype(\"Int64\")\n",
    "        except Exception:\n",
    "            pass  # if it can't be integer, leave as numeric\n",
    "\n",
    "# 2) Fill mode for country\n",
    "if \"country\" in df2.columns:\n",
    "    mode_vals = df2[\"country\"].mode(dropna=True)\n",
    "    mode_value = mode_vals.iloc[0] if not mode_vals.empty else \"Unknown\"\n",
    "    df2[\"country\"] = df2[\"country\"].fillna(mode_value).astype(str)"
   ]
  },
  {
   "cell_type": "code",
   "execution_count": 8,
   "id": "91b5e7a5",
   "metadata": {},
   "outputs": [
    {
     "name": "stdout",
     "output_type": "stream",
     "text": [
      "Filled missing values and saved to: hotel_bookings_cleaned.csv\n"
     ]
    }
   ],
   "source": [
    "# Save\n",
    "df2.to_csv(path_out, index=False)\n",
    "#print(f\"Filled missing values and saved to: {path_out}\")"
   ]
  },
  {
   "cell_type": "code",
   "execution_count": null,
   "id": "140a9018",
   "metadata": {},
   "outputs": [],
   "source": []
  }
 ],
 "metadata": {
  "kernelspec": {
   "display_name": "Python 3 (ipykernel)",
   "language": "python",
   "name": "python3"
  },
  "language_info": {
   "codemirror_mode": {
    "name": "ipython",
    "version": 3
   },
   "file_extension": ".py",
   "mimetype": "text/x-python",
   "name": "python",
   "nbconvert_exporter": "python",
   "pygments_lexer": "ipython3",
   "version": "3.9.13"
  }
 },
 "nbformat": 4,
 "nbformat_minor": 5
}
