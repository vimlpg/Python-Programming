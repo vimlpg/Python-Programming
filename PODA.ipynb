{
 "cells": [
  {
   "cell_type": "code",
   "execution_count": 26,
   "id": "cfad8b3c-bb58-4167-876f-da988c87c4a1",
   "metadata": {},
   "outputs": [
    {
     "name": "stdout",
     "output_type": "stream",
     "text": [
      "Tertile thresholds:\n",
      "0.000000       0.0\n",
      "0.333333     199.0\n",
      "0.666667     416.7\n",
      "1.000000    7590.0\n",
      "Name: total_price, dtype: float64\n",
      "\n",
      "Counts by band:\n",
      "price_band\n",
      "Low       29145\n",
      "Medium    29120\n",
      "High      29131\n",
      "Name: count, dtype: int64\n"
     ]
    }
   ],
   "source": [
    "#quantile\n",
    "import pandas as pd\n",
    "\n",
    "df = pd.read_excel(\"/Users/xiafeier/Desktop/PODA/hotel_bookings_cleaned.xlsx\")\n",
    "\n",
    "df[\"total_nights\"] = (\n",
    "    df[\"stays_in_week_nights\"].astype(int)\n",
    "    + df[\"stays_in_weekend_nights\"].astype(int)\n",
    ")\n",
    "df[\"total_price\"] = (df[\"adr\"].clip(lower=0) * df[\"total_nights\"]).round(2)\n",
    "\n",
    "\n",
    "df[\"price_band\"] = pd.qcut(\n",
    "    df[\"total_price\"],\n",
    "    q=[0, 1/3, 2/3, 1],\n",
    "    labels=[\"Low\", \"Medium\", \"High\"],\n",
    "    duplicates=\"drop\"\n",
    ").astype(\"category\")\n",
    "\n",
    "\n",
    "print(\"Tertile thresholds:\")\n",
    "print(df.loc[df[\"total_price\"].notna(), \"total_price\"].quantile([0, 1/3, 2/3, 1]).round(2))\n",
    "print(\"\\nCounts by band:\")\n",
    "print(df[\"price_band\"].value_counts(sort=False))\n",
    "\n",
    "df.to_csv(\"hotel_bookings_with_tertiles.csv\", index=False)\n"
   ]
  },
  {
   "cell_type": "code",
   "execution_count": 28,
   "id": "9d7ae4ad-597b-46c7-8379-de7c93523033",
   "metadata": {},
   "outputs": [],
   "source": [
    "#band_equalwidth\n",
    "df = pd.read_excel(\"/Users/xiafeier/Desktop/PODA/hotel_bookings_cleaned.xlsx\")\n",
    "\n",
    "df[\"total_nights\"] = (\n",
    "    df[\"stays_in_week_nights\"].astype(int)\n",
    "    + df[\"stays_in_weekend_nights\"].astype(int)\n",
    ")\n",
    "df[\"total_price\"] = (df[\"adr\"].clip(lower=0) * df[\"total_nights\"]).round(2)\n",
    "\n",
    "df[\"price_band_equalwidth\"] = pd.cut(\n",
    "    df[\"total_price\"],\n",
    "    bins=3,\n",
    "    labels=[\"Low\", \"Medium\", \"High\"],\n",
    "    include_lowest=True\n",
    ").astype(\"category\")\n",
    "\n",
    "df.to_csv(\"hotel_bookings_equalwidth.csv\", index=False)\n"
   ]
  },
  {
   "cell_type": "code",
   "execution_count": null,
   "id": "e2567a73-9a8e-4971-8f81-ee1016c65534",
   "metadata": {},
   "outputs": [],
   "source": []
  },
  {
   "cell_type": "code",
   "execution_count": null,
   "id": "8592c26d-5275-42b6-8035-1f7750a73087",
   "metadata": {},
   "outputs": [],
   "source": []
  }
 ],
 "metadata": {
  "kernelspec": {
   "display_name": "Python [conda env:base] *",
   "language": "python",
   "name": "conda-base-py"
  },
  "language_info": {
   "codemirror_mode": {
    "name": "ipython",
    "version": 3
   },
   "file_extension": ".py",
   "mimetype": "text/x-python",
   "name": "python",
   "nbconvert_exporter": "python",
   "pygments_lexer": "ipython3",
   "version": "3.12.7"
  }
 },
 "nbformat": 4,
 "nbformat_minor": 5
}
