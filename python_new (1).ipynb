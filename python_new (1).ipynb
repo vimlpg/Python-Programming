{
 "cells": [
  {
   "cell_type": "code",
   "execution_count": 23,
   "id": "ef329b22-24c9-4c9e-9a37-66fa8a6ee7b0",
   "metadata": {},
   "outputs": [],
   "source": [
    "import numpy as np\n",
    "import pandas as pd\n",
    "import matplotlib.pyplot as plt\n",
    "from pathlib import Path"
   ]
  },
  {
   "cell_type": "code",
   "execution_count": 25,
   "id": "9e126ed0-b4ba-4f3f-91dc-d3b779047bdf",
   "metadata": {},
   "outputs": [],
   "source": [
    "#Load an Excel file\n",
    "def load_data(path):\n",
    "    path = Path(path)\n",
    "    return pd.read_excel(path)"
   ]
  },
  {
   "cell_type": "code",
   "execution_count": 27,
   "id": "6e757a9d-d617-4779-8d13-ec9e7770b661",
   "metadata": {},
   "outputs": [],
   "source": [
    "#Save the enriched DataFrame to CSV without index\n",
    "def save_enriched_data(df, output_file):\n",
    "    output_file = Path(output_file)\n",
    "    df.to_csv(output_file, index=False)"
   ]
  },
  {
   "cell_type": "code",
   "execution_count": 29,
   "id": "01cbd209-d070-4e4f-9e72-ff48e2e4501d",
   "metadata": {},
   "outputs": [],
   "source": [
    "#Create 'total_nights' = stays_in_week_nights + stays_in_weekend_nights\n",
    "def compute_total_nights(df):\n",
    "    df = df.copy()\n",
    "    df[\"total_nights\"] = df[\"stays_in_week_nights\"] + df[\"stays_in_weekend_nights\"]\n",
    "    return df"
   ]
  },
  {
   "cell_type": "code",
   "execution_count": 31,
   "id": "2314456e-f10d-4925-9e16-bed3b983f161",
   "metadata": {},
   "outputs": [],
   "source": [
    "#Infer a coarse 'season' from 'arrival_date_month':\n",
    "#Summer: June, July, August\n",
    "#Shoulder: May, September\n",
    "#Off-peak: others\n",
    "def infer_season(df):\n",
    "    df = df.copy()\n",
    "    month = df.get(\"arrival_date_month\")\n",
    "    m = pd.Series(month, index=df.index).astype(str).str.title() \n",
    "    summer = {\"June\", \"July\", \"August\"}\n",
    "    shoulder = {\"May\", \"September\"}\n",
    "    df[\"season\"] = np.where(m.isin(summer), \"Summer\",\n",
    "                      np.where(m.isin(shoulder), \"Shoulder\", \"Off-peak\"))\n",
    "    return df"
   ]
  },
  {
   "cell_type": "code",
   "execution_count": 33,
   "id": "79b897c2-b851-4c14-81c7-f61515242248",
   "metadata": {},
   "outputs": [],
   "source": [
    "#Derive:\n",
    "#child_count: numeric children count\n",
    "#breakfast_pax: number of people charged breakfast if meal plan includes breakfast(meal in {\"BB\",\"HB\",\"FB\"} → has breakfast)\n",
    "\n",
    "def derive_breakfast_and_children(df):\n",
    "    df = df.copy()\n",
    "    df[\"child_count\"] = pd.Series(df.get(\"children\", 0)).fillna(0).astype(float)\n",
    "    adults = pd.Series(df.get(\"adults\", 0)).fillna(0).astype(float)\n",
    "    children = df[\"child_count\"]\n",
    "    meal = df.get(\"meal\", \"\")\n",
    "    has_breakfast = pd.Series(False, index=df.index)\n",
    "    if isinstance(meal, pd.Series):\n",
    "        has_breakfast = meal.isin([\"BB\", \"HB\", \"FB\"])\n",
    "    df[\"breakfast_pax\"] = np.where(has_breakfast, adults + children, 0.0)\n",
    "    return df"
   ]
  },
  {
   "cell_type": "code",
   "execution_count": 35,
   "id": "475975a5-fb16-41db-9114-c823216da56e",
   "metadata": {},
   "outputs": [],
   "source": [
    "#Compute 'adjusted_revenue' = adr * total_nights * (1 - is_canceled).\n",
    "def compute_adjusted_revenue(df):\n",
    "    df = df.copy()\n",
    "    valid = (df[\"adr\"] >= 0) & (df[\"total_nights\"] >= 0)\n",
    "    df[\"adjusted_revenue\"] = df[\"adr\"] * df[\"total_nights\"] * (1 - df[\"is_canceled\"])\n",
    "    df.loc[~valid, \"adjusted_revenue\"] = np.nan\n",
    "    return df"
   ]
  },
  {
   "cell_type": "code",
   "execution_count": 37,
   "id": "98ee2f12-d403-42a7-912d-f03ef0b53f78",
   "metadata": {},
   "outputs": [],
   "source": [
    "\"\"\"\n",
    "Compute per-night and total costs using simple embedded rules:\n",
    "    - Base variable cost per night = 60\n",
    "    - Cleaning cost per stay (fixed) = 30\n",
    "    - Child cost per child per night = 20\n",
    "    - Breakfast cost per person per night = 6\n",
    "    - Season uplifts on cost: Summer +20%, Shoulder +10%, Off-peak +0%\n",
    "    Output: cost_per_night_adj, total_cost\n",
    "\"\"\"\n",
    "def add_costs(df):\n",
    "    df = df.copy()\n",
    "\n",
    "    # Embedded constants\n",
    "    base_cost_per_night = 60.0\n",
    "    cleaning_cost_per_stay = 30.0\n",
    "    child_cost_per_night = 20.0\n",
    "    breakfast_unit_cost = 6.0\n",
    "    charge_fixed_if_cancelled = False\n",
    "\n",
    "    season_cost_uplift = {\"Summer\": 0.20, \"Shoulder\": 0.10, \"Off-peak\": 0.00}\n",
    "\n",
    "    season_up = pd.Series(df[\"season\"]).map(season_cost_uplift).fillna(0.0)\n",
    "\n",
    "    df[\"cost_per_night_adj\"] = (\n",
    "        base_cost_per_night * (1 + season_up) \n",
    "        + pd.Series(df.get(\"child_count\", 0)).fillna(0) * child_cost_per_night\n",
    "        + pd.Series(df.get(\"breakfast_pax\", 0)).fillna(0) * breakfast_unit_cost\n",
    "    )\n",
    "\n",
    "    if charge_fixed_if_cancelled:\n",
    "        fixed = cleaning_cost_per_stay\n",
    "    else:\n",
    "        fixed = np.where(df[\"is_canceled\"] == 1, 0.0, cleaning_cost_per_stay)\n",
    "\n",
    "    df[\"total_cost\"] = pd.Series(df[\"total_nights\"]).fillna(0) * df[\"cost_per_night_adj\"] + fixed\n",
    "    return df"
   ]
  },
  {
   "cell_type": "code",
   "execution_count": 39,
   "id": "02f839ab-14f9-4575-840d-2b3e4442fc22",
   "metadata": {},
   "outputs": [],
   "source": [
    "'''\n",
    "profit = adjusted_revenue - total_cost\n",
    "Booking_Profitability_Score: scale profit into [0,100] by clipping to 5th–95th pct\n",
    "score = 100 * (clip(profit) - p5) / (p95 - p5)\n",
    "If all profits equal (p5≈p95), set score=50 for non-NaN profits\n",
    "'''\n",
    "def compute_profit_and_score(df):\n",
    "    df = df.copy()\n",
    "    df[\"profit\"] = df[\"adjusted_revenue\"] - df[\"total_cost\"]\n",
    "\n",
    "    prof = df[\"profit\"].dropna()\n",
    "    if prof.empty:\n",
    "        df[\"profit_clip\"] = np.nan\n",
    "        df[\"Booking_Profitability_Score\"] = np.nan\n",
    "        return df\n",
    "\n",
    "    p5, p95 = np.nanpercentile(prof, [5, 95])\n",
    "    if np.isclose(p5, p95):\n",
    "        df[\"profit_clip\"] = df[\"profit\"]\n",
    "        df[\"Booking_Profitability_Score\"] = 50.0\n",
    "        return df\n",
    "\n",
    "    df[\"profit_clip\"] = df[\"profit\"].clip(lower=p5, upper=p95)\n",
    "    df[\"Booking_Profitability_Score\"] = 100 * (df[\"profit_clip\"] - p5) / (p95 - p5)\n",
    "    return df\n"
   ]
  },
  {
   "cell_type": "code",
   "execution_count": 41,
   "id": "0dda61b3-3b42-4861-b2b6-98854d62f64f",
   "metadata": {},
   "outputs": [],
   "source": [
    "'''\n",
    "End-to-end pipeline:\n",
    "load -> build features -> adjusted revenue -> costs -> profit & score -> save.\n",
    "'''\n",
    "def main(input_file, output_file):\n",
    "    df = load_data(input_file)\n",
    "    df = compute_total_nights(df)\n",
    "    df = infer_season(df)\n",
    "    df = derive_breakfast_and_children(df)\n",
    "\n",
    "    df = compute_adjusted_revenue(df)\n",
    "    df = add_costs(df)\n",
    "    df = compute_profit_and_score(df)\n",
    "\n",
    "    save_enriched_data(df, output_file)\n",
    "    print(f\"\\nSaved → {Path(output_file).resolve()}\")\n",
    "\n",
    "    return df"
   ]
  },
  {
   "cell_type": "code",
   "execution_count": 43,
   "id": "2e2e7194-e1d6-4172-bcf2-00fae7ffbda4",
   "metadata": {},
   "outputs": [
    {
     "name": "stdout",
     "output_type": "stream",
     "text": [
      "\n",
      "Saved → /Users/xiafeier/hotel_bookings_enriched.csv\n"
     ]
    }
   ],
   "source": [
    "if __name__ == \"__main__\":\n",
    "    input_path = \"/Users/xiafeier/Desktop/python/hotel_bookings.xlsx\"  \n",
    "    output_path = \"hotel_bookings_enriched.csv\"\n",
    "    final_df = main(input_path, output_path)"
   ]
  },
  {
   "cell_type": "code",
   "execution_count": null,
   "id": "5b086a06-0931-4cc9-ad88-7609032c9974",
   "metadata": {},
   "outputs": [],
   "source": []
  },
  {
   "cell_type": "code",
   "execution_count": null,
   "id": "980c28f0-93af-4faa-9a8f-a41d4cd822a3",
   "metadata": {},
   "outputs": [],
   "source": []
  },
  {
   "cell_type": "code",
   "execution_count": null,
   "id": "db96316e-74ff-48ab-b4f9-9880ebeb1530",
   "metadata": {},
   "outputs": [],
   "source": []
  },
  {
   "cell_type": "code",
   "execution_count": null,
   "id": "a2f08dbd-2719-4c84-b220-a5d6b23d3a85",
   "metadata": {},
   "outputs": [],
   "source": []
  },
  {
   "cell_type": "code",
   "execution_count": null,
   "id": "9d6e756e-033a-42fc-b84d-70ba88d5a2be",
   "metadata": {},
   "outputs": [],
   "source": []
  },
  {
   "cell_type": "code",
   "execution_count": null,
   "id": "ae8d53ae-1a3c-4be7-b6cf-7fada98c0cb6",
   "metadata": {},
   "outputs": [],
   "source": []
  },
  {
   "cell_type": "code",
   "execution_count": null,
   "id": "bb83d489-a9d4-4b20-a156-7a484188f16b",
   "metadata": {},
   "outputs": [],
   "source": []
  },
  {
   "cell_type": "code",
   "execution_count": null,
   "id": "f0a244a5-8237-4043-84ca-02341878aadd",
   "metadata": {},
   "outputs": [],
   "source": []
  },
  {
   "cell_type": "code",
   "execution_count": null,
   "id": "6855c512-e57f-4753-9d70-30139618a2a1",
   "metadata": {},
   "outputs": [],
   "source": []
  },
  {
   "cell_type": "code",
   "execution_count": null,
   "id": "ce0c24a0-16ab-45b4-9f19-dc8f06b859c1",
   "metadata": {},
   "outputs": [],
   "source": []
  },
  {
   "cell_type": "code",
   "execution_count": null,
   "id": "c9264cd1-d2a6-4e59-b1de-43a886317058",
   "metadata": {},
   "outputs": [],
   "source": []
  },
  {
   "cell_type": "code",
   "execution_count": null,
   "id": "6c7ee6c4-ca08-435d-8149-75700bdacc16",
   "metadata": {},
   "outputs": [],
   "source": []
  },
  {
   "cell_type": "code",
   "execution_count": null,
   "id": "3b16bb71-a669-4ebd-8d7a-ff24bc6f4568",
   "metadata": {},
   "outputs": [],
   "source": []
  }
 ],
 "metadata": {
  "kernelspec": {
   "display_name": "Python [conda env:base] *",
   "language": "python",
   "name": "conda-base-py"
  },
  "language_info": {
   "codemirror_mode": {
    "name": "ipython",
    "version": 3
   },
   "file_extension": ".py",
   "mimetype": "text/x-python",
   "name": "python",
   "nbconvert_exporter": "python",
   "pygments_lexer": "ipython3",
   "version": "3.12.7"
  }
 },
 "nbformat": 4,
 "nbformat_minor": 5
}
