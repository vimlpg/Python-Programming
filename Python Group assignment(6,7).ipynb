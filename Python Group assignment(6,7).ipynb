{
 "cells": [
  {
   "cell_type": "code",
   "execution_count": 58,
   "id": "6d73666c",
   "metadata": {},
   "outputs": [],
   "source": [
    "import pandas as pd\n",
    "import numpy as py"
   ]
  },
  {
   "cell_type": "code",
   "execution_count": 59,
   "id": "b51676e6",
   "metadata": {},
   "outputs": [],
   "source": [
    "df = pd.read_csv(\"hotel_bookings_cleaned.csv\")"
   ]
  },
  {
   "cell_type": "code",
   "execution_count": 60,
   "id": "f283e3a4",
   "metadata": {},
   "outputs": [],
   "source": [
    "#there's no Identifier Id so we create this synthetic guest ID \n",
    "df['customer_id'] = (\n",
    "    df['country'].astype(str) + '_' +\n",
    "    df['market_segment'].astype(str) + '_' +\n",
    "    df['distribution_channel'].astype(str) + '_' +\n",
    "    df['reserved_room_type'].astype(str)\n",
    ").factorize()[0] + 1 #factorize in pandas means assign unique id integer to each distinct combination"
   ]
  },
  {
   "cell_type": "code",
   "execution_count": 63,
   "id": "482c8d05",
   "metadata": {},
   "outputs": [
    {
     "name": "stdout",
     "output_type": "stream",
     "text": [
      "   customer_id  is_repeated_guest  previous_cancellations  loyal_check\n",
      "0            1                  1                       1            1\n",
      "1            1                  1                       1            1\n",
      "2            2                  1                       1            1\n",
      "3            3                  1                       0            1\n",
      "4            4                  1                       1            1\n"
     ]
    }
   ],
   "source": [
    "#loyality check \n",
    "\n",
    "# checks if the guest id appears more than once in the dataset\n",
    "df['is_repeated_guest'] = df['customer_id'].duplicated(keep=False).astype(int)\n",
    "\n",
    "# checks if the guest cancels before\n",
    "guest_cancel = df.groupby('customer_id')['is_canceled'].max().to_dict() \n",
    "df['previous_cancellations'] = df['customer_id'].map(guest_cancel)\n",
    "\n",
    "#combine both checks with OR if either one of them is true - if the customer repeated or have previous cancellation their loyality check is 1, otherwise 0\n",
    "df['loyal_check'] = ((df['is_repeated_guest'] == 1) | (df['previous_cancellations'] == 1)).astype(int)\n",
    "\n",
    "print(df[['customer_id', 'is_repeated_guest','previous_cancellations','loyal_check']].head())"
   ]
  },
  {
   "cell_type": "code",
   "execution_count": 62,
   "id": "14b8fcab",
   "metadata": {},
   "outputs": [
    {
     "name": "stdout",
     "output_type": "stream",
     "text": [
      "   adults  children  babies customer_segmentation\n",
      "0       2         0       0                Couple\n",
      "1       2         0       0                Couple\n",
      "2       1         0       0                  Solo\n",
      "3       1         0       0                  Solo\n",
      "4       2         0       0                Couple\n"
     ]
    }
   ],
   "source": [
    "#customer segments\n",
    "def customer_segment(seg):\n",
    "    all_kids = seg['children'] + seg['babies']\n",
    "    \n",
    "    if seg['adults'] > 1 and all_kids > 0:\n",
    "        return \"Family\"\n",
    "    elif seg['adults'] == 2 and all_kids == 0:\n",
    "        return \"Couple\"\n",
    "    elif seg['adults'] == 1 and all_kids == 0:\n",
    "        return \"Solo\"\n",
    "    \n",
    "    else:\n",
    "        return \"Others\"\n",
    "    \n",
    "#pandas function to apply thats run the function for each row and apply it to the new column which is customer segmentation.    \n",
    "df['customer_segmentation'] = df.apply(customer_segment, axis=1)\n",
    "\n",
    "print(df[['adults','children','babies','customer_segmentation']].head())"
   ]
  },
  {
   "cell_type": "code",
   "execution_count": null,
   "id": "965ad938",
   "metadata": {},
   "outputs": [],
   "source": []
  },
  {
   "cell_type": "code",
   "execution_count": null,
   "id": "5d3358d5",
   "metadata": {},
   "outputs": [],
   "source": []
  }
 ],
 "metadata": {
  "kernelspec": {
   "display_name": "Python 3 (ipykernel)",
   "language": "python",
   "name": "python3"
  },
  "language_info": {
   "codemirror_mode": {
    "name": "ipython",
    "version": 3
   },
   "file_extension": ".py",
   "mimetype": "text/x-python",
   "name": "python",
   "nbconvert_exporter": "python",
   "pygments_lexer": "ipython3",
   "version": "3.9.13"
  }
 },
 "nbformat": 4,
 "nbformat_minor": 5
}
