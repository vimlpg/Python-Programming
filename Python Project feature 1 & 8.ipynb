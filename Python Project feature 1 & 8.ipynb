{
 "cells": [
  {
   "cell_type": "code",
   "execution_count": 2,
   "id": "8baf2487",
   "metadata": {},
   "outputs": [],
   "source": [
    "import pandas as pd\n",
    "import numpy as np"
   ]
  },
  {
   "cell_type": "code",
   "execution_count": 3,
   "id": "9e844487",
   "metadata": {
    "scrolled": false
   },
   "outputs": [
    {
     "name": "stdout",
     "output_type": "stream",
     "text": [
      "Preview of the dataset:\n",
      "          hotel  is_canceled  lead_time  arrival_date_year arrival_date_month  \\\n",
      "0  Resort Hotel            0        342               2015               July   \n",
      "1  Resort Hotel            0        737               2015               July   \n",
      "2  Resort Hotel            0          7               2015               July   \n",
      "3  Resort Hotel            0         13               2015               July   \n",
      "4  Resort Hotel            0         14               2015               July   \n",
      "\n",
      "   arrival_date_week_number  arrival_date_day_of_month  \\\n",
      "0                        27                          1   \n",
      "1                        27                          1   \n",
      "2                        27                          1   \n",
      "3                        27                          1   \n",
      "4                        27                          1   \n",
      "\n",
      "   stays_in_weekend_nights  stays_in_week_nights  adults  ...  deposit_type  \\\n",
      "0                        0                     0       2  ...    No Deposit   \n",
      "1                        0                     0       2  ...    No Deposit   \n",
      "2                        0                     1       1  ...    No Deposit   \n",
      "3                        0                     1       1  ...    No Deposit   \n",
      "4                        0                     2       2  ...    No Deposit   \n",
      "\n",
      "   agent company days_in_waiting_list customer_type   adr  \\\n",
      "0      0       0                    0     Transient   0.0   \n",
      "1      0       0                    0     Transient   0.0   \n",
      "2      0       0                    0     Transient  75.0   \n",
      "3    304       0                    0     Transient  75.0   \n",
      "4    240       0                    0     Transient  98.0   \n",
      "\n",
      "   required_car_parking_spaces  total_of_special_requests  reservation_status  \\\n",
      "0                            0                          0           Check-Out   \n",
      "1                            0                          0           Check-Out   \n",
      "2                            0                          0           Check-Out   \n",
      "3                            0                          0           Check-Out   \n",
      "4                            0                          1           Check-Out   \n",
      "\n",
      "  reservation_status_date  \n",
      "0              2015-07-01  \n",
      "1              2015-07-01  \n",
      "2              2015-07-02  \n",
      "3              2015-07-02  \n",
      "4              2015-07-03  \n",
      "\n",
      "[5 rows x 32 columns]\n"
     ]
    }
   ],
   "source": [
    "df = pd.read_csv(\"hotel_bookings_cleaned.csv\")\n",
    "print(\"Preview of the dataset:\")\n",
    "print(df.head())"
   ]
  },
  {
   "cell_type": "code",
   "execution_count": 9,
   "id": "22767e54",
   "metadata": {},
   "outputs": [
    {
     "name": "stdout",
     "output_type": "stream",
     "text": [
      "count    87396.000000\n",
      "mean         3.596686\n",
      "std          2.531052\n",
      "min          0.000000\n",
      "25%          2.000000\n",
      "50%          3.000000\n",
      "75%          5.000000\n",
      "max         14.000000\n",
      "Name: len_of_stay_cap, dtype: float64\n"
     ]
    }
   ],
   "source": [
    "#create total length of stay (len_of_stay)\n",
    "#to get len_of_stay add stays_in_week_nights and stays_in_weekend_nights.\n",
    "df['len_of_stay'] = df['stays_in_week_nights'] + df['stays_in_weekend_nights']\n",
    "\n",
    "#cap the outliers using the 99th percentile.\n",
    "upper_limit = df ['len_of_stay'].quantile(0.99)\n",
    "\n",
    "#create a new capped column by using the .clip function to replace any values above the limit with the limit value.\n",
    "df['len_of_stay_cap'] = df['len_of_stay'].clip(upper=upper_limit)\n",
    "\n",
    "print(df['len_of_stay_cap'].describe())"
   ]
  },
  {
   "cell_type": "code",
   "execution_count": 10,
   "id": "94bd89db",
   "metadata": {},
   "outputs": [
    {
     "name": "stdout",
     "output_type": "stream",
     "text": [
      "Successfully mapped all months.\n"
     ]
    }
   ],
   "source": [
    "#Classifying months into Low (Winter)/ Average (Spring and Fall) / High (Summer) seasons. \n",
    "season_map = {\n",
    "    #Low season\n",
    "    'January': 'Low',\n",
    "    'February': 'Low',\n",
    "    'December': 'Low',\n",
    "    \n",
    "    #Average season\n",
    "    'March': 'Average',\n",
    "    'April': 'Average',\n",
    "    'May': 'Average',\n",
    "    'September': 'Average',\n",
    "    'October': 'Average',\n",
    "    'November': 'Average',\n",
    "    \n",
    "    #High season\n",
    "    'June': 'High',\n",
    "    'July': 'High',\n",
    "    'August': 'High',\n",
    "}\n",
    "\n",
    "#Apply mapping to create a 'season' column\n",
    "df['season'] = df['arrival_date_month'].map(season_map)\n",
    "\n",
    "#Check that all months were mapped successfully\n",
    "if df['season'].isnull().any():\n",
    "    print('Some months were not mapped.')\n",
    "    print(df[df['season'].isnull()]['arrival_date_month'].unique())\n",
    "else:\n",
    "    print('Successfully mapped all months.')\n",
    "\n"
   ]
  },
  {
   "cell_type": "code",
   "execution_count": null,
   "id": "6d0ac1b7",
   "metadata": {},
   "outputs": [],
   "source": []
  }
 ],
 "metadata": {
  "kernelspec": {
   "display_name": "Python 3 (ipykernel)",
   "language": "python",
   "name": "python3"
  },
  "language_info": {
   "codemirror_mode": {
    "name": "ipython",
    "version": 3
   },
   "file_extension": ".py",
   "mimetype": "text/x-python",
   "name": "python",
   "nbconvert_exporter": "python",
   "pygments_lexer": "ipython3",
   "version": "3.9.13"
  }
 },
 "nbformat": 4,
 "nbformat_minor": 5
}
